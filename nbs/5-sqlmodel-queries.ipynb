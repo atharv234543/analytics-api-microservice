{
 "cells": [
  {
   "cell_type": "code",
   "execution_count": 1,
   "metadata": {},
   "outputs": [],
   "source": [
    "import sys\n",
    "from pathlib import Path"
   ]
  },
  {
   "cell_type": "code",
   "execution_count": 3,
   "metadata": {},
   "outputs": [],
   "source": [
    "src_path = Path('../src').resolve()\n",
    "\n",
    "sys.path.append(str(src_path))"
   ]
  },
  {
   "cell_type": "code",
   "execution_count": 7,
   "metadata": {},
   "outputs": [],
   "source": [
    "from sqlmodel import Session,select\n",
    "from api.db.session import engine\n",
    "from api.events.models import EventModel\n",
    "from timescaledb.hyperfunctions import time_bucket\n",
    "from pprint import pprint"
   ]
  },
  {
   "cell_type": "code",
   "execution_count": 10,
   "metadata": {},
   "outputs": [
    {
     "name": "stdout",
     "output_type": "stream",
     "text": [
      "SELECT eventmodel.id, eventmodel.time, eventmodel.page, eventmodel.description, eventmodel.updated_at \n",
      "FROM eventmodel ORDER BY eventmodel.id ASC\n",
      " LIMIT 10\n",
      "\n",
      "SELECT eventmodel.id, eventmodel.time, eventmodel.page, eventmodel.description, eventmodel.updated_at \n",
      "FROM eventmodel ORDER BY eventmodel.id ASC\n",
      " LIMIT :param_1\n"
     ]
    }
   ],
   "source": [
    "with Session(engine) as session:\n",
    "    query=select(EventModel).order_by(EventModel.id.asc()).limit(10)\n",
    "    compiled_query = query.compile(compile_kwargs={\"literal_binds\":True})\n",
    "    print(compiled_query)\n",
    "    print(\"\")\n",
    "    print(str(query))"
   ]
  },
  {
   "cell_type": "code",
   "execution_count": null,
   "metadata": {},
   "outputs": [
    {
     "name": "stdout",
     "output_type": "stream",
     "text": [
      "[(datetime.datetime(2025, 7, 22, 5, 43, tzinfo=datetime.timezone.utc), '/about', 522),\n",
      " (datetime.datetime(2025, 7, 22, 5, 44, tzinfo=datetime.timezone.utc), '/about', 576),\n",
      " (datetime.datetime(2025, 7, 22, 5, 45, tzinfo=datetime.timezone.utc), '/about', 625),\n",
      " (datetime.datetime(2025, 7, 22, 5, 46, tzinfo=datetime.timezone.utc), '/about', 547),\n",
      " (datetime.datetime(2025, 7, 22, 5, 47, tzinfo=datetime.timezone.utc), '/about', 189)]\n"
     ]
    }
   ],
   "source": [
    "\n",
    "from sqlalchemy import func\n",
    "from datetime import datetime,timedelta,timezone\n",
    "\n",
    "with Session(engine) as session:\n",
    "    bucket = time_bucket('1 minute',EventModel.time)\n",
    "    pages = ['/about']#,'/contact','/pages','/pricing']\n",
    "    start = datetime.now(timezone.utc) - timedelta(hours=1)\n",
    "    finish = datetime.now(timezone.utc) + timedelta(hours=1)\n",
    "    query=(\n",
    "        select(\n",
    "            bucket,\n",
    "            EventModel.page,\n",
    "            func.count()\n",
    "            )\n",
    "            .where(\n",
    "                EventModel.time > start,\n",
    "                EventModel.time<=finish,\n",
    "                EventModel.page.in_(pages)\n",
    "            )\n",
    "            .group_by(\n",
    "                bucket,\n",
    "                EventModel.page\n",
    "           )\n",
    "           .order_by(\n",
    "               bucket,\n",
    "               EventModel.page\n",
    "           )\n",
    "        )\n",
    "    compiled_query = query.compile(compile_kwargs={\"literal_binds\":True})\n",
    "    results= session.exec(query).fetchall()\n",
    "    pprint(results)"
   ]
  }
 ],
 "metadata": {
  "kernelspec": {
   "display_name": "venv",
   "language": "python",
   "name": "python3"
  },
  "language_info": {
   "codemirror_mode": {
    "name": "ipython",
    "version": 3
   },
   "file_extension": ".py",
   "mimetype": "text/x-python",
   "name": "python",
   "nbconvert_exporter": "python",
   "pygments_lexer": "ipython3",
   "version": "3.13.5"
  }
 },
 "nbformat": 4,
 "nbformat_minor": 2
}
